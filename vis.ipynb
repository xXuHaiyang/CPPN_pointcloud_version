{
 "cells": [
  {
   "cell_type": "code",
   "execution_count": 1,
   "metadata": {},
   "outputs": [
    {
     "name": "stdout",
     "output_type": "stream",
     "text": [
      "Jupyter environment detected. Enabling Open3D WebVisualizer.\n",
      "[Open3D INFO] WebRTC GUI backend enabled.\n",
      "[Open3D INFO] WebRTCWindowSystem: HTTP handshake server disabled.\n"
     ]
    }
   ],
   "source": [
    "from CPPN import CPPN, geno_to_pheno, geno_to_pheno_structual\n",
    "import random\n",
    "import numpy as np\n",
    "import open3d as o3d\n",
    "\n",
    "# # for test stability, we need to make sure the network is deterministic\n",
    "# # when realistcally used, we should eliminate the deterministic part\n",
    "random.seed(4122)\n",
    "np.random.seed(4122)"
   ]
  },
  {
   "cell_type": "code",
   "execution_count": 2,
   "metadata": {},
   "outputs": [],
   "source": [
    "def calc_node_state(network, node_name, orig_size_xyz, density=5.):\n",
    "    \"\"\"Propagate input values through the network\"\"\"\n",
    "    if network.graph.nodes[node_name][\"evaluated\"]:\n",
    "        return network.graph.nodes[node_name][\"state\"]\n",
    "\n",
    "    network.graph.nodes[node_name][\"evaluated\"] = True\n",
    "    input_edges = network.graph.in_edges(nbunch=[node_name])\n",
    "    \n",
    "    flattened_size = network.num_points\n",
    "    new_state = np.zeros(flattened_size)\n",
    "\n",
    "    for edge in input_edges:\n",
    "        node1, node2 = edge\n",
    "        ### recursively evaluate the input node, if it hasn't been evaluated already\n",
    "        ### at first, all the nodes are un-evaluated except the input nodes, i.e., 'x', 'y', 'z', 'd', 'bias'\n",
    "        new_state += calc_node_state(network, node1, orig_size_xyz, density) * network.graph.edges[node1, node2][\"weight\"]\n",
    "\n",
    "    network.graph.nodes[node_name][\"state\"] = new_state\n",
    "\n",
    "    return network.graph.nodes[node_name][\"function\"](new_state)"
   ]
  },
  {
   "cell_type": "code",
   "execution_count": 3,
   "metadata": {},
   "outputs": [],
   "source": [
    "cppn = CPPN(output_node_names=[\"out\"])\n",
    "shape = (1, 1, 1)\n",
    "density = 10\n",
    "cppn.set_input_node_states(shape, density, mode=\"random\")\n",
    "output_state = calc_node_state(cppn, \"out\", shape, density)\n",
    "pointcloud = cppn.pointcloud"
   ]
  },
  {
   "cell_type": "code",
   "execution_count": 4,
   "metadata": {},
   "outputs": [
    {
     "data": {
      "text/plain": [
       "array([-0.28198502, -0.38022814, -0.07981278,  0.24852019,  0.26003625])"
      ]
     },
     "execution_count": 4,
     "metadata": {},
     "output_type": "execute_result"
    }
   ],
   "source": [
    "output_state[:5]"
   ]
  },
  {
   "cell_type": "code",
   "execution_count": 5,
   "metadata": {},
   "outputs": [],
   "source": [
    "split_parts = geno_to_pheno(pointcloud, output_state, [0], border_width=0.05, inside_sparsity=1)"
   ]
  },
  {
   "cell_type": "code",
   "execution_count": 6,
   "metadata": {},
   "outputs": [
    {
     "data": {
      "text/plain": [
       "2"
      ]
     },
     "execution_count": 6,
     "metadata": {},
     "output_type": "execute_result"
    }
   ],
   "source": [
    "len(split_parts)"
   ]
  },
  {
   "cell_type": "code",
   "execution_count": 7,
   "metadata": {},
   "outputs": [
    {
     "name": "stdout",
     "output_type": "stream",
     "text": [
      "material  1 :  646\n",
      "material  2 :  354\n"
     ]
    }
   ],
   "source": [
    "# # o3d visualization\n",
    "color_parts = [[1, 0, 0], [0, 1, 0], [30/255.,144/255.,1], [1, 1, 1]]\n",
    "# material_color_parts = [0.5, 0.5, 0.5]\n",
    "material_color_parts = [1, 1, 1]\n",
    "clouds = []\n",
    "for i, split_part in enumerate(split_parts):\n",
    "    print(\"material \", str(i+1), \": \", len(split_part))\n",
    "    cloud = o3d.geometry.PointCloud()\n",
    "    cloud.points = o3d.utility.Vector3dVector(split_part[:, :3])\n",
    "    colors = np.zeros([split_part.shape[0], 3])\n",
    "    colors[:, :] = color_parts[i]\n",
    "    colors[split_part[:, -1] == 1, :] = material_color_parts # material points\n",
    "    cloud.colors = o3d.utility.Vector3dVector(colors)\n",
    "    clouds.append(cloud)\n",
    "# border_points = split_parts[\"border\"][0][0]\n",
    "cloud = o3d.geometry.PointCloud()\n",
    "# colors = np.zeros([border_points.shape[0], 3])\n",
    "colors[:, :] = [0, 0, 1]\n",
    "# cloud.points = o3d.utility.Vector3dVector(border_points)\n",
    "cloud.colors = o3d.utility.Vector3dVector(colors)\n",
    "clouds.append(cloud)\n",
    "o3d.visualization.draw_geometries(clouds)"
   ]
  }
 ],
 "metadata": {
  "kernelspec": {
   "display_name": "torch",
   "language": "python",
   "name": "python3"
  },
  "language_info": {
   "codemirror_mode": {
    "name": "ipython",
    "version": 3
   },
   "file_extension": ".py",
   "mimetype": "text/x-python",
   "name": "python",
   "nbconvert_exporter": "python",
   "pygments_lexer": "ipython3",
   "version": "3.9.7"
  },
  "orig_nbformat": 4
 },
 "nbformat": 4,
 "nbformat_minor": 2
}
